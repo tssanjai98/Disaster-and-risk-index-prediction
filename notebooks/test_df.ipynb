{
 "cells": [
  {
   "cell_type": "code",
   "execution_count": 1,
   "metadata": {},
   "outputs": [
    {
     "name": "stdout",
     "output_type": "stream",
     "text": [
      "Requirement already satisfied: pandas in /Users/sanjaits/Gradschool/ASU/Courses/sem-4/Project/Project_Implementation/Disaster-and-risk-index-prediction/.venv/lib/python3.13/site-packages (2.2.3)\n",
      "Requirement already satisfied: numpy>=1.26.0 in /Users/sanjaits/Gradschool/ASU/Courses/sem-4/Project/Project_Implementation/Disaster-and-risk-index-prediction/.venv/lib/python3.13/site-packages (from pandas) (2.0.2)\n",
      "Requirement already satisfied: python-dateutil>=2.8.2 in /Users/sanjaits/Gradschool/ASU/Courses/sem-4/Project/Project_Implementation/Disaster-and-risk-index-prediction/.venv/lib/python3.13/site-packages (from pandas) (2.9.0.post0)\n",
      "Requirement already satisfied: pytz>=2020.1 in /Users/sanjaits/Gradschool/ASU/Courses/sem-4/Project/Project_Implementation/Disaster-and-risk-index-prediction/.venv/lib/python3.13/site-packages (from pandas) (2025.1)\n",
      "Requirement already satisfied: tzdata>=2022.7 in /Users/sanjaits/Gradschool/ASU/Courses/sem-4/Project/Project_Implementation/Disaster-and-risk-index-prediction/.venv/lib/python3.13/site-packages (from pandas) (2025.1)\n",
      "Requirement already satisfied: six>=1.5 in /Users/sanjaits/Gradschool/ASU/Courses/sem-4/Project/Project_Implementation/Disaster-and-risk-index-prediction/.venv/lib/python3.13/site-packages (from python-dateutil>=2.8.2->pandas) (1.17.0)\n"
     ]
    }
   ],
   "source": [
    "!pip install pandas"
   ]
  },
  {
   "cell_type": "code",
   "execution_count": 2,
   "metadata": {},
   "outputs": [],
   "source": [
    "import sys\n",
    "sys.path.append(\"../src\")"
   ]
  },
  {
   "cell_type": "code",
   "execution_count": 3,
   "metadata": {},
   "outputs": [
    {
     "data": {
      "text/html": [
       "<div>\n",
       "<style scoped>\n",
       "    .dataframe tbody tr th:only-of-type {\n",
       "        vertical-align: middle;\n",
       "    }\n",
       "\n",
       "    .dataframe tbody tr th {\n",
       "        vertical-align: top;\n",
       "    }\n",
       "\n",
       "    .dataframe thead th {\n",
       "        text-align: right;\n",
       "    }\n",
       "</style>\n",
       "<table border=\"1\" class=\"dataframe\">\n",
       "  <thead>\n",
       "    <tr style=\"text-align: right;\">\n",
       "      <th></th>\n",
       "      <th>STATE</th>\n",
       "      <th>STATE_FIPS</th>\n",
       "      <th>YEAR</th>\n",
       "      <th>EVENT_TYPE</th>\n",
       "      <th>CZ_FIPS</th>\n",
       "      <th>CZ_NAME</th>\n",
       "      <th>BEGIN_DATE_TIME</th>\n",
       "    </tr>\n",
       "  </thead>\n",
       "  <tbody>\n",
       "    <tr>\n",
       "      <th>0</th>\n",
       "      <td>SC</td>\n",
       "      <td>45</td>\n",
       "      <td>2015</td>\n",
       "      <td>Severe Storm</td>\n",
       "      <td>1</td>\n",
       "      <td>ABBEVILLE</td>\n",
       "      <td>2015-08-11</td>\n",
       "    </tr>\n",
       "    <tr>\n",
       "      <th>1</th>\n",
       "      <td>SC</td>\n",
       "      <td>45</td>\n",
       "      <td>1997</td>\n",
       "      <td>Severe Storm</td>\n",
       "      <td>1</td>\n",
       "      <td>ABBEVILLE</td>\n",
       "      <td>1997-06-17</td>\n",
       "    </tr>\n",
       "    <tr>\n",
       "      <th>2</th>\n",
       "      <td>SC</td>\n",
       "      <td>45</td>\n",
       "      <td>2001</td>\n",
       "      <td>Drought</td>\n",
       "      <td>11</td>\n",
       "      <td>ABBEVILLE</td>\n",
       "      <td>2001-04-01</td>\n",
       "    </tr>\n",
       "    <tr>\n",
       "      <th>3</th>\n",
       "      <td>SC</td>\n",
       "      <td>45</td>\n",
       "      <td>1992</td>\n",
       "      <td>Severe Storm</td>\n",
       "      <td>1</td>\n",
       "      <td>ABBEVILLE</td>\n",
       "      <td>1992-08-27</td>\n",
       "    </tr>\n",
       "    <tr>\n",
       "      <th>4</th>\n",
       "      <td>SC</td>\n",
       "      <td>45</td>\n",
       "      <td>1994</td>\n",
       "      <td>Tornado</td>\n",
       "      <td>1</td>\n",
       "      <td>ABBEVILLE</td>\n",
       "      <td>1994-12-04</td>\n",
       "    </tr>\n",
       "  </tbody>\n",
       "</table>\n",
       "</div>"
      ],
      "text/plain": [
       "  STATE  STATE_FIPS  YEAR    EVENT_TYPE  CZ_FIPS    CZ_NAME BEGIN_DATE_TIME\n",
       "0    SC          45  2015  Severe Storm        1  ABBEVILLE      2015-08-11\n",
       "1    SC          45  1997  Severe Storm        1  ABBEVILLE      1997-06-17\n",
       "2    SC          45  2001       Drought       11  ABBEVILLE      2001-04-01\n",
       "3    SC          45  1992  Severe Storm        1  ABBEVILLE      1992-08-27\n",
       "4    SC          45  1994       Tornado        1  ABBEVILLE      1994-12-04"
      ]
     },
     "execution_count": 3,
     "metadata": {},
     "output_type": "execute_result"
    }
   ],
   "source": [
    "from data_processing import load_and_merge_disaster_data\n",
    "\n",
    "df = load_and_merge_disaster_data()\n",
    "df.head()"
   ]
  },
  {
   "cell_type": "code",
   "execution_count": 4,
   "metadata": {},
   "outputs": [
    {
     "data": {
      "text/plain": [
       "EVENT_TYPE\n",
       "Severe Storm           660419\n",
       "Flood                  133003\n",
       "Winter Storm           101203\n",
       "Drought                 79139\n",
       "Snowstorm               72343\n",
       "Tornado                 63275\n",
       "Excessive Heat          50820\n",
       "Freezing                30812\n",
       "Severe Ice Storm        14339\n",
       "Hurricane               13428\n",
       "Fire                    11602\n",
       "Tropical Storm           7544\n",
       "Coastal Storm            5988\n",
       "Biological               3238\n",
       "Other                    1930\n",
       "Mud/Landslide            1506\n",
       "Earthquake                187\n",
       "Typhoon                   112\n",
       "Volcanic Eruption         105\n",
       "Fishing Losses             42\n",
       "Tsunami                    38\n",
       "Dam/Levee Break            10\n",
       "Chemical                    9\n",
       "Toxic Substances            7\n",
       "Human Cause                 6\n",
       "Terrorist                   5\n",
       "Straight-Line Winds         2\n",
       "Name: count, dtype: int64"
      ]
     },
     "execution_count": 4,
     "metadata": {},
     "output_type": "execute_result"
    }
   ],
   "source": [
    "df[\"EVENT_TYPE\"].value_counts()"
   ]
  }
 ],
 "metadata": {
  "kernelspec": {
   "display_name": ".venv",
   "language": "python",
   "name": "python3"
  },
  "language_info": {
   "codemirror_mode": {
    "name": "ipython",
    "version": 3
   },
   "file_extension": ".py",
   "mimetype": "text/x-python",
   "name": "python",
   "nbconvert_exporter": "python",
   "pygments_lexer": "ipython3",
   "version": "3.13.0"
  }
 },
 "nbformat": 4,
 "nbformat_minor": 2
}
