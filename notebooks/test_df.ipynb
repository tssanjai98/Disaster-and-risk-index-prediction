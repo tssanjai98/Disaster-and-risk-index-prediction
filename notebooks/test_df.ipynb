{
 "cells": [
  {
   "cell_type": "code",
   "execution_count": 1,
   "metadata": {},
   "outputs": [
    {
     "name": "stdout",
     "output_type": "stream",
     "text": [
      "Requirement already satisfied: pandas in /Users/sanjaits/Gradschool/ASU/Courses/sem-4/Project/Project_Implementation/Disaster-and-risk-index-prediction/.venv/lib/python3.13/site-packages (2.2.3)\n",
      "Requirement already satisfied: numpy>=1.26.0 in /Users/sanjaits/Gradschool/ASU/Courses/sem-4/Project/Project_Implementation/Disaster-and-risk-index-prediction/.venv/lib/python3.13/site-packages (from pandas) (2.0.2)\n",
      "Requirement already satisfied: python-dateutil>=2.8.2 in /Users/sanjaits/Gradschool/ASU/Courses/sem-4/Project/Project_Implementation/Disaster-and-risk-index-prediction/.venv/lib/python3.13/site-packages (from pandas) (2.9.0.post0)\n",
      "Requirement already satisfied: pytz>=2020.1 in /Users/sanjaits/Gradschool/ASU/Courses/sem-4/Project/Project_Implementation/Disaster-and-risk-index-prediction/.venv/lib/python3.13/site-packages (from pandas) (2025.1)\n",
      "Requirement already satisfied: tzdata>=2022.7 in /Users/sanjaits/Gradschool/ASU/Courses/sem-4/Project/Project_Implementation/Disaster-and-risk-index-prediction/.venv/lib/python3.13/site-packages (from pandas) (2025.1)\n",
      "Requirement already satisfied: six>=1.5 in /Users/sanjaits/Gradschool/ASU/Courses/sem-4/Project/Project_Implementation/Disaster-and-risk-index-prediction/.venv/lib/python3.13/site-packages (from python-dateutil>=2.8.2->pandas) (1.17.0)\n"
     ]
    }
   ],
   "source": [
    "!pip install pandas"
   ]
  },
  {
   "cell_type": "code",
   "execution_count": 2,
   "metadata": {},
   "outputs": [],
   "source": [
    "import sys\n",
    "sys.path.append(\"../src\")"
   ]
  },
  {
   "cell_type": "code",
   "execution_count": 3,
   "metadata": {},
   "outputs": [
    {
     "data": {
      "text/html": [
       "<div>\n",
       "<style scoped>\n",
       "    .dataframe tbody tr th:only-of-type {\n",
       "        vertical-align: middle;\n",
       "    }\n",
       "\n",
       "    .dataframe tbody tr th {\n",
       "        vertical-align: top;\n",
       "    }\n",
       "\n",
       "    .dataframe thead th {\n",
       "        text-align: right;\n",
       "    }\n",
       "</style>\n",
       "<table border=\"1\" class=\"dataframe\">\n",
       "  <thead>\n",
       "    <tr style=\"text-align: right;\">\n",
       "      <th></th>\n",
       "      <th>STATE_ABBR</th>\n",
       "      <th>BEGIN_DATE</th>\n",
       "      <th>BEGIN_TIME</th>\n",
       "      <th>END_DATE</th>\n",
       "      <th>END_TIME</th>\n",
       "      <th>EVENT_TYPE</th>\n",
       "    </tr>\n",
       "  </thead>\n",
       "  <tbody>\n",
       "    <tr>\n",
       "      <th>0</th>\n",
       "      <td>FL</td>\n",
       "      <td>1996-09-02</td>\n",
       "      <td>08:00</td>\n",
       "      <td>1996-09-02</td>\n",
       "      <td>08:00</td>\n",
       "      <td>coastal storm</td>\n",
       "    </tr>\n",
       "    <tr>\n",
       "      <th>1</th>\n",
       "      <td>VA</td>\n",
       "      <td>1996-09-06</td>\n",
       "      <td>09:00</td>\n",
       "      <td>1996-09-06</td>\n",
       "      <td>17:00</td>\n",
       "      <td>coastal storm</td>\n",
       "    </tr>\n",
       "    <tr>\n",
       "      <th>6</th>\n",
       "      <td>MD</td>\n",
       "      <td>1996-09-06</td>\n",
       "      <td>10:00</td>\n",
       "      <td>1996-09-06</td>\n",
       "      <td>17:00</td>\n",
       "      <td>coastal storm</td>\n",
       "    </tr>\n",
       "    <tr>\n",
       "      <th>11</th>\n",
       "      <td>DC</td>\n",
       "      <td>1996-09-06</td>\n",
       "      <td>12:00</td>\n",
       "      <td>1996-09-06</td>\n",
       "      <td>18:30</td>\n",
       "      <td>coastal storm</td>\n",
       "    </tr>\n",
       "    <tr>\n",
       "      <th>12</th>\n",
       "      <td>NC</td>\n",
       "      <td>1996-10-08</td>\n",
       "      <td>04:00</td>\n",
       "      <td>1996-10-08</td>\n",
       "      <td>07:00</td>\n",
       "      <td>coastal storm</td>\n",
       "    </tr>\n",
       "  </tbody>\n",
       "</table>\n",
       "</div>"
      ],
      "text/plain": [
       "   STATE_ABBR BEGIN_DATE BEGIN_TIME   END_DATE END_TIME     EVENT_TYPE\n",
       "0          FL 1996-09-02      08:00 1996-09-02    08:00  coastal storm\n",
       "1          VA 1996-09-06      09:00 1996-09-06    17:00  coastal storm\n",
       "6          MD 1996-09-06      10:00 1996-09-06    17:00  coastal storm\n",
       "11         DC 1996-09-06      12:00 1996-09-06    18:30  coastal storm\n",
       "12         NC 1996-10-08      04:00 1996-10-08    07:00  coastal storm"
      ]
     },
     "execution_count": 3,
     "metadata": {},
     "output_type": "execute_result"
    }
   ],
   "source": [
    "from data_processing import load_combine_datasets\n",
    "\n",
    "df = load_combine_datasets()\n",
    "df.head()"
   ]
  },
  {
   "cell_type": "code",
   "execution_count": 4,
   "metadata": {},
   "outputs": [
    {
     "data": {
      "text/plain": [
       "EVENT_TYPE\n",
       "fire                   1848\n",
       "severe storm           1666\n",
       "flood                  1090\n",
       "tornado                 642\n",
       "hurricane               464\n",
       "mud/landslide           229\n",
       "coastal storm           205\n",
       "snowstorm               170\n",
       "severe ice storm        139\n",
       "tropical storm          135\n",
       "drought                  72\n",
       "winter storm             67\n",
       "freezing                 60\n",
       "typhoon                  56\n",
       "biological               56\n",
       "earthquake               35\n",
       "other                    33\n",
       "tsunami                  29\n",
       "volcanic eruption        10\n",
       "toxic substances          8\n",
       "fishing losses            6\n",
       "dam/levee break           5\n",
       "human cause               3\n",
       "terrorist                 2\n",
       "straight-line winds       1\n",
       "chemical                  1\n",
       "Name: count, dtype: int64"
      ]
     },
     "execution_count": 4,
     "metadata": {},
     "output_type": "execute_result"
    }
   ],
   "source": [
    "df[\"EVENT_TYPE\"].fillna(\"Unknown\").value_counts()"
   ]
  },
  {
   "cell_type": "code",
   "execution_count": null,
   "metadata": {},
   "outputs": [],
   "source": []
  }
 ],
 "metadata": {
  "kernelspec": {
   "display_name": ".venv",
   "language": "python",
   "name": "python3"
  },
  "language_info": {
   "codemirror_mode": {
    "name": "ipython",
    "version": 3
   },
   "file_extension": ".py",
   "mimetype": "text/x-python",
   "name": "python",
   "nbconvert_exporter": "python",
   "pygments_lexer": "ipython3",
   "version": "3.13.0"
  }
 },
 "nbformat": 4,
 "nbformat_minor": 2
}
